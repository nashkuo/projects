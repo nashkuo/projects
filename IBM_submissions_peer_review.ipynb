{
  "metadata": {
    "kernelspec": {
      "name": "python",
      "display_name": "Pyolite",
      "language": "python"
    },
    "language_info": {
      "codemirror_mode": {
        "name": "python",
        "version": 3
      },
      "file_extension": ".py",
      "mimetype": "text/x-python",
      "name": "python",
      "nbconvert_exporter": "python",
      "pygments_lexer": "ipython3",
      "version": "3.8"
    }
  },
  "nbformat_minor": 4,
  "nbformat": 4,
  "cells": [
    {
      "cell_type": "markdown",
      "source": "<center>\n    <img src=\"https://cf-courses-data.s3.us.cloud-object-storage.appdomain.cloud/IBMDeveloperSkillsNetwork-DS0105EN-SkillsNetwork/labs/Module2/images/SN_web_lightmode.png\" width=\"300\" alt=\"cognitiveclass.ai logo\"  />\n</center>\n",
      "metadata": {}
    },
    {
      "cell_type": "markdown",
      "source": "#### Add your code below following the instructions given in the course\n",
      "metadata": {}
    },
    {
      "cell_type": "markdown",
      "source": "My Jupyter Notebook on IBM Watson Studio",
      "metadata": {}
    },
    {
      "cell_type": "markdown",
      "source": "**Nash Kuo**",
      "metadata": {}
    },
    {
      "cell_type": "markdown",
      "source": "Student at the University of Taipei Medical University, Taiwan",
      "metadata": {}
    },
    {
      "cell_type": "markdown",
      "source": "I am interested in data science because it is relatively new in Taiwan as a whole. I also want to contribute to effective and data driven decision making in organizations to propel the application growth  .",
      "metadata": {}
    },
    {
      "cell_type": "markdown",
      "source": "In the next cell I explored the add of any two numbers",
      "metadata": {}
    },
    {
      "cell_type": "code",
      "source": "def IBM_submit_homework(a,b):\n    result = a + b\n    return result\n\nIBM_submit_homework(1,17)",
      "metadata": {
        "trusted": true
      },
      "execution_count": null,
      "outputs": []
    },
    {
      "cell_type": "code",
      "source": "",
      "metadata": {},
      "execution_count": null,
      "outputs": []
    },
    {
      "cell_type": "code",
      "source": "",
      "metadata": {},
      "execution_count": null,
      "outputs": []
    },
    {
      "cell_type": "markdown",
      "source": "Cell 6 <br />\n(rendered as Markdown): Using Markdown or HTML, this cell must include at least 3 of the following: <br />\nhorizontal rule, bulleted list, numbered list, tables, hyperlinks, images, code/syntax highlighting, blocked quotes, strikethrough.",
      "metadata": {}
    },
    {
      "cell_type": "markdown",
      "source": " - IBM Watson Studio\n - Data Science\n - TMU",
      "metadata": {}
    },
    {
      "cell_type": "markdown",
      "source": "[my data visualization of running](https://nashkuo.github.io/projects/running_maps/events_maps.html)",
      "metadata": {}
    },
    {
      "cell_type": "markdown",
      "source": "![TMW Logo](https://www.startup.taipei/upload/2021/07/20210729164301183.jpg)",
      "metadata": {}
    }
  ]
}